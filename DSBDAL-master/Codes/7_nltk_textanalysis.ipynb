{
  "nbformat": 4,
  "nbformat_minor": 0,
  "metadata": {
    "colab": {
      "provenance": []
    },
    "kernelspec": {
      "name": "python3",
      "display_name": "Python 3"
    },
    "language_info": {
      "name": "python"
    }
  },
  "cells": [
    {
      "cell_type": "code",
      "execution_count": null,
      "metadata": {
        "id": "LX0v8N14BMl_"
      },
      "outputs": [],
      "source": [
        "import nltk"
      ]
    },
    {
      "cell_type": "code",
      "source": [
        "nltk.download('stopwords')\n",
        "nltk.download('words')\n",
        "nltk.download('wordnet')\n",
        "nltk.download('averged_perception_tagger')\n",
        "nltk.download('punkt')"
      ],
      "metadata": {
        "colab": {
          "base_uri": "https://localhost:8080/"
        },
        "id": "7ZoVTM1NBwyd",
        "outputId": "d1d30d8d-910e-4407-eb82-e4f8bff564a4"
      },
      "execution_count": null,
      "outputs": [
        {
          "output_type": "stream",
          "name": "stderr",
          "text": [
            "[nltk_data] Downloading package stopwords to /root/nltk_data...\n",
            "[nltk_data]   Unzipping corpora/stopwords.zip.\n",
            "[nltk_data] Downloading package words to /root/nltk_data...\n",
            "[nltk_data]   Unzipping corpora/words.zip.\n",
            "[nltk_data] Downloading package wordnet to /root/nltk_data...\n",
            "[nltk_data] Error loading averged_perception_tagger: Package\n",
            "[nltk_data]     'averged_perception_tagger' not found in index\n",
            "[nltk_data] Downloading package punkt to /root/nltk_data...\n",
            "[nltk_data]   Unzipping tokenizers/punkt.zip.\n"
          ]
        },
        {
          "output_type": "execute_result",
          "data": {
            "text/plain": [
              "True"
            ]
          },
          "metadata": {},
          "execution_count": 2
        }
      ]
    },
    {
      "cell_type": "code",
      "source": [
        "import pandas as pd\n",
        "import numpy as np"
      ],
      "metadata": {
        "id": "ybWTnJfIB-_x"
      },
      "execution_count": null,
      "outputs": []
    },
    {
      "cell_type": "code",
      "source": [
        "sent= \"They told that thier eges are 20 23 and 27 respectively\"\n"
      ],
      "metadata": {
        "id": "Te8ln55FCEYf"
      },
      "execution_count": null,
      "outputs": []
    },
    {
      "cell_type": "code",
      "source": [
        "add=[]\n"
      ],
      "metadata": {
        "id": "HwaaF397CXWP"
      },
      "execution_count": null,
      "outputs": []
    },
    {
      "cell_type": "code",
      "source": [
        "  for word in sent.split():\n",
        "    if word.isdigit():\n",
        "      add.append(int(word))\n"
      ],
      "metadata": {
        "id": "iQ5_opNhEAsN"
      },
      "execution_count": null,
      "outputs": []
    },
    {
      "cell_type": "code",
      "source": [
        "print (\"Ave\", sum(add)/len(add))"
      ],
      "metadata": {
        "colab": {
          "base_uri": "https://localhost:8080/"
        },
        "id": "pUisJJuwENtr",
        "outputId": "3fc5735b-3453-4f25-c4a4-25d2920d3ae3"
      },
      "execution_count": null,
      "outputs": [
        {
          "output_type": "stream",
          "name": "stdout",
          "text": [
            "Ave 23.333333333333332\n"
          ]
        }
      ]
    },
    {
      "cell_type": "code",
      "source": [
        "from nltk.tokenize import word_tokenize, sent_tokenize"
      ],
      "metadata": {
        "id": "FJIFNyR-EZ1q"
      },
      "execution_count": null,
      "outputs": []
    },
    {
      "cell_type": "code",
      "source": [
        "sent= \"Hello all! how are you? Welcome to pun \"\n"
      ],
      "metadata": {
        "id": "heUorQhqEgyB"
      },
      "execution_count": null,
      "outputs": []
    },
    {
      "cell_type": "code",
      "source": [
        "sent_tokenize(sent)"
      ],
      "metadata": {
        "colab": {
          "base_uri": "https://localhost:8080/"
        },
        "id": "OaBfH77YE41m",
        "outputId": "9ba7ba18-24d6-412f-cf0b-b2e3ff245f6b"
      },
      "execution_count": null,
      "outputs": [
        {
          "output_type": "execute_result",
          "data": {
            "text/plain": [
              "['Hello all!', 'how are you?', 'Welcome to pun']"
            ]
          },
          "metadata": {},
          "execution_count": 16
        }
      ]
    },
    {
      "cell_type": "code",
      "source": [
        "word_tokenize(sent)"
      ],
      "metadata": {
        "colab": {
          "base_uri": "https://localhost:8080/"
        },
        "id": "monF0KfUE_Cy",
        "outputId": "66477faf-e8dd-449a-f11e-c1e3467da127"
      },
      "execution_count": null,
      "outputs": [
        {
          "output_type": "execute_result",
          "data": {
            "text/plain": [
              "['Hello', 'all', '!', 'how', 'are', 'you', '?', 'Welcome', 'to', 'pun']"
            ]
          },
          "metadata": {},
          "execution_count": 17
        }
      ]
    },
    {
      "cell_type": "code",
      "source": [
        "from nltk.tokenize import SpaceTokenizer\n",
        "tk=SpaceTokenizer()\n",
        "tk.tokenize(sent)\n"
      ],
      "metadata": {
        "colab": {
          "base_uri": "https://localhost:8080/"
        },
        "id": "5IavXuGwFZOQ",
        "outputId": "9d681510-e90b-4594-c80d-fd0e617ad74d"
      },
      "execution_count": null,
      "outputs": [
        {
          "output_type": "execute_result",
          "data": {
            "text/plain": [
              "['Hello', 'all!', 'how', 'are', 'you?', 'Welcome', 'to', 'pun', '']"
            ]
          },
          "metadata": {},
          "execution_count": 18
        }
      ]
    },
    {
      "cell_type": "code",
      "source": [
        "print(sent)\n"
      ],
      "metadata": {
        "colab": {
          "base_uri": "https://localhost:8080/"
        },
        "id": "RAJzJiDrFo_z",
        "outputId": "0e4b0c38-c439-4c9f-fc72-3d85f5f81d66"
      },
      "execution_count": null,
      "outputs": [
        {
          "output_type": "stream",
          "name": "stdout",
          "text": [
            "Hello all! how are you? Welcome to pun \n"
          ]
        }
      ]
    },
    {
      "cell_type": "code",
      "source": [
        "s1='ctas','catlike','catty','cat'\n",
        "s2='stemmer','stemming','stemmed','stem'\n",
        "s3='fishing','fished','fisher','fish'\n",
        "s4='argue','argued','argues','argus'\n"
      ],
      "metadata": {
        "id": "qPXMc1EwGLMV"
      },
      "execution_count": null,
      "outputs": []
    },
    {
      "cell_type": "code",
      "source": [
        "from nltk.stem import PorterStemmer"
      ],
      "metadata": {
        "id": "DVSdm4O7GNhd"
      },
      "execution_count": null,
      "outputs": []
    },
    {
      "cell_type": "code",
      "source": [
        "ps=PorterStemmer()"
      ],
      "metadata": {
        "id": "kjZCfofbGqrQ"
      },
      "execution_count": null,
      "outputs": []
    },
    {
      "cell_type": "code",
      "source": [
        "ps.stem(s3[0])"
      ],
      "metadata": {
        "colab": {
          "base_uri": "https://localhost:8080/",
          "height": 36
        },
        "id": "T9fmuxbRGxWS",
        "outputId": "46ba9fb1-5651-4a84-a26b-d859efa38a05"
      },
      "execution_count": null,
      "outputs": [
        {
          "output_type": "execute_result",
          "data": {
            "text/plain": [
              "'fish'"
            ],
            "application/vnd.google.colaboratory.intrinsic+json": {
              "type": "string"
            }
          },
          "metadata": {},
          "execution_count": 24
        }
      ]
    },
    {
      "cell_type": "code",
      "source": [
        "for word in s4:\n",
        "   ps=PorterStemmer()\n",
        "   print(ps.stem(word))"
      ],
      "metadata": {
        "colab": {
          "base_uri": "https://localhost:8080/"
        },
        "id": "R_Eq8G_4G2Cu",
        "outputId": "c64da29e-ed44-4fd1-dd69-71f14a12801b"
      },
      "execution_count": null,
      "outputs": [
        {
          "output_type": "stream",
          "name": "stdout",
          "text": [
            "argu\n",
            "argu\n",
            "argu\n",
            "argu\n"
          ]
        }
      ]
    },
    {
      "cell_type": "code",
      "source": [
        "# lemmatization"
      ],
      "metadata": {
        "id": "9y8vN0y0HRSa"
      },
      "execution_count": null,
      "outputs": []
    },
    {
      "cell_type": "code",
      "source": [
        "word='playing'"
      ],
      "metadata": {
        "id": "tC-A4kVpHVaW"
      },
      "execution_count": null,
      "outputs": []
    },
    {
      "cell_type": "code",
      "source": [
        "from nltk.stem import WordNetLemmatizer"
      ],
      "metadata": {
        "id": "c9ilxJ-DHZtQ"
      },
      "execution_count": null,
      "outputs": []
    },
    {
      "cell_type": "code",
      "source": [
        "wnl=WordNetLemmatizer()\n",
        "print(wnl.lemmatize(word,'n')) # noun\n",
        "print(wnl.lemmatize(word,'v')) # verb\n",
        "print(wnl.lemmatize(word,'a')) # adjective\n",
        "print(wnl.lemmatize(word,'r')) # adverb\n"
      ],
      "metadata": {
        "colab": {
          "base_uri": "https://localhost:8080/"
        },
        "id": "jH1vzjE_He8F",
        "outputId": "06cb256a-5ef5-43ea-bf42-364f3f5d4f08"
      },
      "execution_count": null,
      "outputs": [
        {
          "output_type": "stream",
          "name": "stdout",
          "text": [
            "playing\n",
            "play\n",
            "playing\n",
            "playing\n"
          ]
        }
      ]
    },
    {
      "cell_type": "code",
      "source": [
        "word='went'"
      ],
      "metadata": {
        "id": "QhLzHMe8H1tm"
      },
      "execution_count": null,
      "outputs": []
    },
    {
      "cell_type": "code",
      "source": [
        "wnl=WordNetLemmatizer()\n",
        "print(wnl.lemmatize(word,'n')) # noun\n",
        "print(wnl.lemmatize(word,'v')) # verb\n",
        "print(wnl.lemmatize(word,'a')) # adjective\n",
        "print(wnl.lemmatize(word,'r')) # adverb\n"
      ],
      "metadata": {
        "colab": {
          "base_uri": "https://localhost:8080/"
        },
        "id": "Q2ftZhcbH5fl",
        "outputId": "adff270e-7107-4a6c-bf09-47c485d1751b"
      },
      "execution_count": null,
      "outputs": [
        {
          "output_type": "stream",
          "name": "stdout",
          "text": [
            "went\n",
            "go\n",
            "went\n",
            "went\n"
          ]
        }
      ]
    },
    {
      "cell_type": "code",
      "source": [
        "# POS tagging"
      ],
      "metadata": {
        "id": "AWIENc5uICfA"
      },
      "execution_count": null,
      "outputs": []
    },
    {
      "cell_type": "code",
      "source": [
        "from nltk import pos_tag"
      ],
      "metadata": {
        "id": "N4DBDCRaIFhE"
      },
      "execution_count": null,
      "outputs": []
    },
    {
      "cell_type": "code",
      "source": [
        "import nltk\n",
        "nltk.download('averaged_perceptron_tagger')"
      ],
      "metadata": {
        "colab": {
          "base_uri": "https://localhost:8080/"
        },
        "id": "Cjy5E3XDIJjR",
        "outputId": "cfe36dfd-648b-4698-ba19-2dd4365254b1"
      },
      "execution_count": null,
      "outputs": [
        {
          "output_type": "stream",
          "name": "stderr",
          "text": [
            "[nltk_data] Downloading package averaged_perceptron_tagger to\n",
            "[nltk_data]     /root/nltk_data...\n",
            "[nltk_data]   Unzipping taggers/averaged_perceptron_tagger.zip.\n"
          ]
        },
        {
          "output_type": "execute_result",
          "data": {
            "text/plain": [
              "True"
            ]
          },
          "metadata": {},
          "execution_count": 34
        }
      ]
    },
    {
      "cell_type": "code",
      "source": [
        "sents='Rajgad (literal meaning Ruling Fort) is a hill fort situated in the Pune district of Maharashtra, India. Formerly known as Murumdev'\n",
        "\n",
        "print(sents)"
      ],
      "metadata": {
        "colab": {
          "base_uri": "https://localhost:8080/"
        },
        "id": "5GYNoxIDIMCJ",
        "outputId": "c7a2a012-de6d-467e-c5a5-fdea818ec989"
      },
      "execution_count": null,
      "outputs": [
        {
          "output_type": "stream",
          "name": "stdout",
          "text": [
            "Rajgad (literal meaning Ruling Fort) is a hill fort situated in the Pune district of Maharashtra, India. Formerly known as Murumdev\n"
          ]
        }
      ]
    },
    {
      "cell_type": "code",
      "source": [
        "words=word_tokenize(sents)"
      ],
      "metadata": {
        "id": "3NpUNG2iJSVp"
      },
      "execution_count": null,
      "outputs": []
    },
    {
      "cell_type": "code",
      "source": [
        "nltk.download('omw-1.4')"
      ],
      "metadata": {
        "colab": {
          "base_uri": "https://localhost:8080/"
        },
        "id": "M_Wp2yAEJSdZ",
        "outputId": "e42abeae-9257-42c1-f877-4c2f0c06fa85"
      },
      "execution_count": null,
      "outputs": [
        {
          "output_type": "stream",
          "name": "stderr",
          "text": [
            "[nltk_data] Downloading package omw-1.4 to /root/nltk_data...\n"
          ]
        },
        {
          "output_type": "execute_result",
          "data": {
            "text/plain": [
              "True"
            ]
          },
          "metadata": {},
          "execution_count": 39
        }
      ]
    },
    {
      "cell_type": "code",
      "source": [
        "pos_tag(words)"
      ],
      "metadata": {
        "colab": {
          "base_uri": "https://localhost:8080/"
        },
        "id": "u0pAkYrrJcsh",
        "outputId": "1b730ab5-f82d-4e3c-f4ee-c34d2f6028c7"
      },
      "execution_count": null,
      "outputs": [
        {
          "output_type": "execute_result",
          "data": {
            "text/plain": [
              "[('Rajgad', 'NNP'),\n",
              " ('(', '('),\n",
              " ('literal', 'JJ'),\n",
              " ('meaning', 'NN'),\n",
              " ('Ruling', 'NNP'),\n",
              " ('Fort', 'NNP'),\n",
              " (')', ')'),\n",
              " ('is', 'VBZ'),\n",
              " ('a', 'DT'),\n",
              " ('hill', 'NN'),\n",
              " ('fort', 'NN'),\n",
              " ('situated', 'VBN'),\n",
              " ('in', 'IN'),\n",
              " ('the', 'DT'),\n",
              " ('Pune', 'NNP'),\n",
              " ('district', 'NN'),\n",
              " ('of', 'IN'),\n",
              " ('Maharashtra', 'NNP'),\n",
              " (',', ','),\n",
              " ('India', 'NNP'),\n",
              " ('.', '.'),\n",
              " ('Formerly', 'RB'),\n",
              " ('known', 'VBN'),\n",
              " ('as', 'IN'),\n",
              " ('Murumdev', 'NNP')]"
            ]
          },
          "metadata": {},
          "execution_count": 40
        }
      ]
    },
    {
      "cell_type": "code",
      "source": [
        "tags=pos_tag(words)\n"
      ],
      "metadata": {
        "id": "INx6r9AiJoZ6"
      },
      "execution_count": null,
      "outputs": []
    },
    {
      "cell_type": "code",
      "source": [
        "for word in tags:\n",
        "  if word[1].startswith('V'):\n",
        "     print(word[0])"
      ],
      "metadata": {
        "colab": {
          "base_uri": "https://localhost:8080/"
        },
        "id": "fwmrc-sqJzFN",
        "outputId": "578a287f-0634-42e7-8982-476834ff094e"
      },
      "execution_count": null,
      "outputs": [
        {
          "output_type": "stream",
          "name": "stdout",
          "text": [
            "is\n",
            "situated\n",
            "known\n"
          ]
        }
      ]
    },
    {
      "cell_type": "code",
      "source": [
        "# spell correction\n",
        "from textblob import TextBlob"
      ],
      "metadata": {
        "id": "cQu9mWToJ6dK"
      },
      "execution_count": null,
      "outputs": []
    },
    {
      "cell_type": "code",
      "source": [
        "t=TextBlob('computoor')\n",
        "print(t.correct())"
      ],
      "metadata": {
        "colab": {
          "base_uri": "https://localhost:8080/"
        },
        "id": "9-AXiJiTKq8O",
        "outputId": "f9eae57a-c0a2-4bc1-f00b-499b3827f346"
      },
      "execution_count": null,
      "outputs": [
        {
          "output_type": "stream",
          "name": "stdout",
          "text": [
            "computer\n"
          ]
        }
      ]
    },
    {
      "cell_type": "code",
      "source": [
        "t=TextBlob('nead')\n",
        "print(t.correct())"
      ],
      "metadata": {
        "colab": {
          "base_uri": "https://localhost:8080/"
        },
        "id": "WUHojywuK2-Y",
        "outputId": "eafa75b2-febe-4c62-b5cd-cb790611253b"
      },
      "execution_count": null,
      "outputs": [
        {
          "output_type": "stream",
          "name": "stdout",
          "text": [
            "head\n"
          ]
        }
      ]
    }
  ]
}