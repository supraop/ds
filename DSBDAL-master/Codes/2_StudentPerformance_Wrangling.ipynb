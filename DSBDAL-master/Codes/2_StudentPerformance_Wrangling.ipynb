{
  "nbformat": 4,
  "nbformat_minor": 0,
  "metadata": {
    "colab": {
      "provenance": [],
      "authorship_tag": "ABX9TyNX+ZP5Il+CDLhxr9Rbhsi2",
      "include_colab_link": true
    },
    "kernelspec": {
      "name": "python3",
      "display_name": "Python 3"
    },
    "language_info": {
      "name": "python"
    }
  },
  "cells": [
    {
      "cell_type": "markdown",
      "metadata": {
        "id": "view-in-github",
        "colab_type": "text"
      },
      "source": [
        "<a href=\"https://colab.research.google.com/github/siddheshsonawane07/DSBDAL/blob/master/Assignment_2.ipynb\" target=\"_parent\"><img src=\"https://colab.research.google.com/assets/colab-badge.svg\" alt=\"Open In Colab\"/></a>"
      ]
    },
    {
      "cell_type": "code",
      "execution_count": 1,
      "metadata": {
        "id": "qy8GYja8HkC3"
      },
      "outputs": [],
      "source": [
        "import numpy as np\n",
        "import pandas as pd"
      ]
    },
    {
      "cell_type": "code",
      "source": [
        "from sklearn.preprocessing import LabelEncoder\n"
      ],
      "metadata": {
        "id": "LmYkq0AXKaVI"
      },
      "execution_count": 2,
      "outputs": []
    },
    {
      "cell_type": "code",
      "source": [
        "import matplotlib.pyplot as plt\n"
      ],
      "metadata": {
        "id": "OIeYjqznN2l0"
      },
      "execution_count": 3,
      "outputs": []
    },
    {
      "cell_type": "code",
      "source": [
        "df = pd.read_csv('/content/students.csv')"
      ],
      "metadata": {
        "id": "Lv9oEOyxH8mB"
      },
      "execution_count": 4,
      "outputs": []
    },
    {
      "cell_type": "code",
      "source": [
        "print(df)"
      ],
      "metadata": {
        "colab": {
          "base_uri": "https://localhost:8080/"
        },
        "id": "EzdhAwx0IKSL",
        "outputId": "6f904265-829e-4841-af6e-6f432238ed99"
      },
      "execution_count": 5,
      "outputs": [
        {
          "output_type": "stream",
          "name": "stdout",
          "text": [
            "   Roll Number First Name Middle Initial Last Name Gender  No of subjects  CC  \\\n",
            "0        31401       Lois              H    Walker      F               4  76   \n",
            "1        31402     Brenda              S  Robinson      F               4  64   \n",
            "2        31403        Joe              W  Robinson      M               4  81   \n",
            "3        31404      Diane              I     Evans      F               4  48   \n",
            "4        31405   Benjamin              R   Russell      M               4  55   \n",
            "\n",
            "   WT  AI  DSBDA   CGPA  Attendance  \n",
            "0  54  56     64  62.50          89  \n",
            "1  41  97     51  63.25          95  \n",
            "2  46  56     64  61.75          70  \n",
            "3  60  60     44  53.00          61  \n",
            "4  58  78     47  59.50          64  \n"
          ]
        }
      ]
    },
    {
      "cell_type": "code",
      "source": [
        "from sklearn import preprocessing\n",
        "label_encoder = preprocessing.LabelEncoder()\n",
        "df['Gender']= label_encoder.fit_transform(df['Gender'])\n",
        "df['Gender'].unique()"
      ],
      "metadata": {
        "id": "K0I7-JEJIVT7",
        "colab": {
          "base_uri": "https://localhost:8080/"
        },
        "outputId": "960555ef-518d-42f8-8c91-52e271a19460"
      },
      "execution_count": 6,
      "outputs": [
        {
          "output_type": "execute_result",
          "data": {
            "text/plain": [
              "array([0, 1])"
            ]
          },
          "metadata": {},
          "execution_count": 6
        }
      ]
    },
    {
      "cell_type": "code",
      "source": [
        "df"
      ],
      "metadata": {
        "id": "GGRAe2g3Khp-",
        "colab": {
          "base_uri": "https://localhost:8080/",
          "height": 206
        },
        "outputId": "35b1fcdb-fcf9-47fa-c0f8-99adfde5322c"
      },
      "execution_count": 7,
      "outputs": [
        {
          "output_type": "execute_result",
          "data": {
            "text/plain": [
              "   Roll Number First Name Middle Initial Last Name  Gender  No of subjects  \\\n",
              "0        31401       Lois              H    Walker       0               4   \n",
              "1        31402     Brenda              S  Robinson       0               4   \n",
              "2        31403        Joe              W  Robinson       1               4   \n",
              "3        31404      Diane              I     Evans       0               4   \n",
              "4        31405   Benjamin              R   Russell       1               4   \n",
              "\n",
              "   CC  WT  AI  DSBDA   CGPA  Attendance  \n",
              "0  76  54  56     64  62.50          89  \n",
              "1  64  41  97     51  63.25          95  \n",
              "2  81  46  56     64  61.75          70  \n",
              "3  48  60  60     44  53.00          61  \n",
              "4  55  58  78     47  59.50          64  "
            ],
            "text/html": [
              "\n",
              "  <div id=\"df-ab8ca0f3-2cfa-4e68-9413-3626c7996191\">\n",
              "    <div class=\"colab-df-container\">\n",
              "      <div>\n",
              "<style scoped>\n",
              "    .dataframe tbody tr th:only-of-type {\n",
              "        vertical-align: middle;\n",
              "    }\n",
              "\n",
              "    .dataframe tbody tr th {\n",
              "        vertical-align: top;\n",
              "    }\n",
              "\n",
              "    .dataframe thead th {\n",
              "        text-align: right;\n",
              "    }\n",
              "</style>\n",
              "<table border=\"1\" class=\"dataframe\">\n",
              "  <thead>\n",
              "    <tr style=\"text-align: right;\">\n",
              "      <th></th>\n",
              "      <th>Roll Number</th>\n",
              "      <th>First Name</th>\n",
              "      <th>Middle Initial</th>\n",
              "      <th>Last Name</th>\n",
              "      <th>Gender</th>\n",
              "      <th>No of subjects</th>\n",
              "      <th>CC</th>\n",
              "      <th>WT</th>\n",
              "      <th>AI</th>\n",
              "      <th>DSBDA</th>\n",
              "      <th>CGPA</th>\n",
              "      <th>Attendance</th>\n",
              "    </tr>\n",
              "  </thead>\n",
              "  <tbody>\n",
              "    <tr>\n",
              "      <th>0</th>\n",
              "      <td>31401</td>\n",
              "      <td>Lois</td>\n",
              "      <td>H</td>\n",
              "      <td>Walker</td>\n",
              "      <td>0</td>\n",
              "      <td>4</td>\n",
              "      <td>76</td>\n",
              "      <td>54</td>\n",
              "      <td>56</td>\n",
              "      <td>64</td>\n",
              "      <td>62.50</td>\n",
              "      <td>89</td>\n",
              "    </tr>\n",
              "    <tr>\n",
              "      <th>1</th>\n",
              "      <td>31402</td>\n",
              "      <td>Brenda</td>\n",
              "      <td>S</td>\n",
              "      <td>Robinson</td>\n",
              "      <td>0</td>\n",
              "      <td>4</td>\n",
              "      <td>64</td>\n",
              "      <td>41</td>\n",
              "      <td>97</td>\n",
              "      <td>51</td>\n",
              "      <td>63.25</td>\n",
              "      <td>95</td>\n",
              "    </tr>\n",
              "    <tr>\n",
              "      <th>2</th>\n",
              "      <td>31403</td>\n",
              "      <td>Joe</td>\n",
              "      <td>W</td>\n",
              "      <td>Robinson</td>\n",
              "      <td>1</td>\n",
              "      <td>4</td>\n",
              "      <td>81</td>\n",
              "      <td>46</td>\n",
              "      <td>56</td>\n",
              "      <td>64</td>\n",
              "      <td>61.75</td>\n",
              "      <td>70</td>\n",
              "    </tr>\n",
              "    <tr>\n",
              "      <th>3</th>\n",
              "      <td>31404</td>\n",
              "      <td>Diane</td>\n",
              "      <td>I</td>\n",
              "      <td>Evans</td>\n",
              "      <td>0</td>\n",
              "      <td>4</td>\n",
              "      <td>48</td>\n",
              "      <td>60</td>\n",
              "      <td>60</td>\n",
              "      <td>44</td>\n",
              "      <td>53.00</td>\n",
              "      <td>61</td>\n",
              "    </tr>\n",
              "    <tr>\n",
              "      <th>4</th>\n",
              "      <td>31405</td>\n",
              "      <td>Benjamin</td>\n",
              "      <td>R</td>\n",
              "      <td>Russell</td>\n",
              "      <td>1</td>\n",
              "      <td>4</td>\n",
              "      <td>55</td>\n",
              "      <td>58</td>\n",
              "      <td>78</td>\n",
              "      <td>47</td>\n",
              "      <td>59.50</td>\n",
              "      <td>64</td>\n",
              "    </tr>\n",
              "  </tbody>\n",
              "</table>\n",
              "</div>\n",
              "      <button class=\"colab-df-convert\" onclick=\"convertToInteractive('df-ab8ca0f3-2cfa-4e68-9413-3626c7996191')\"\n",
              "              title=\"Convert this dataframe to an interactive table.\"\n",
              "              style=\"display:none;\">\n",
              "        \n",
              "  <svg xmlns=\"http://www.w3.org/2000/svg\" height=\"24px\"viewBox=\"0 0 24 24\"\n",
              "       width=\"24px\">\n",
              "    <path d=\"M0 0h24v24H0V0z\" fill=\"none\"/>\n",
              "    <path d=\"M18.56 5.44l.94 2.06.94-2.06 2.06-.94-2.06-.94-.94-2.06-.94 2.06-2.06.94zm-11 1L8.5 8.5l.94-2.06 2.06-.94-2.06-.94L8.5 2.5l-.94 2.06-2.06.94zm10 10l.94 2.06.94-2.06 2.06-.94-2.06-.94-.94-2.06-.94 2.06-2.06.94z\"/><path d=\"M17.41 7.96l-1.37-1.37c-.4-.4-.92-.59-1.43-.59-.52 0-1.04.2-1.43.59L10.3 9.45l-7.72 7.72c-.78.78-.78 2.05 0 2.83L4 21.41c.39.39.9.59 1.41.59.51 0 1.02-.2 1.41-.59l7.78-7.78 2.81-2.81c.8-.78.8-2.07 0-2.86zM5.41 20L4 18.59l7.72-7.72 1.47 1.35L5.41 20z\"/>\n",
              "  </svg>\n",
              "      </button>\n",
              "      \n",
              "  <style>\n",
              "    .colab-df-container {\n",
              "      display:flex;\n",
              "      flex-wrap:wrap;\n",
              "      gap: 12px;\n",
              "    }\n",
              "\n",
              "    .colab-df-convert {\n",
              "      background-color: #E8F0FE;\n",
              "      border: none;\n",
              "      border-radius: 50%;\n",
              "      cursor: pointer;\n",
              "      display: none;\n",
              "      fill: #1967D2;\n",
              "      height: 32px;\n",
              "      padding: 0 0 0 0;\n",
              "      width: 32px;\n",
              "    }\n",
              "\n",
              "    .colab-df-convert:hover {\n",
              "      background-color: #E2EBFA;\n",
              "      box-shadow: 0px 1px 2px rgba(60, 64, 67, 0.3), 0px 1px 3px 1px rgba(60, 64, 67, 0.15);\n",
              "      fill: #174EA6;\n",
              "    }\n",
              "\n",
              "    [theme=dark] .colab-df-convert {\n",
              "      background-color: #3B4455;\n",
              "      fill: #D2E3FC;\n",
              "    }\n",
              "\n",
              "    [theme=dark] .colab-df-convert:hover {\n",
              "      background-color: #434B5C;\n",
              "      box-shadow: 0px 1px 3px 1px rgba(0, 0, 0, 0.15);\n",
              "      filter: drop-shadow(0px 1px 2px rgba(0, 0, 0, 0.3));\n",
              "      fill: #FFFFFF;\n",
              "    }\n",
              "  </style>\n",
              "\n",
              "      <script>\n",
              "        const buttonEl =\n",
              "          document.querySelector('#df-ab8ca0f3-2cfa-4e68-9413-3626c7996191 button.colab-df-convert');\n",
              "        buttonEl.style.display =\n",
              "          google.colab.kernel.accessAllowed ? 'block' : 'none';\n",
              "\n",
              "        async function convertToInteractive(key) {\n",
              "          const element = document.querySelector('#df-ab8ca0f3-2cfa-4e68-9413-3626c7996191');\n",
              "          const dataTable =\n",
              "            await google.colab.kernel.invokeFunction('convertToInteractive',\n",
              "                                                     [key], {});\n",
              "          if (!dataTable) return;\n",
              "\n",
              "          const docLinkHtml = 'Like what you see? Visit the ' +\n",
              "            '<a target=\"_blank\" href=https://colab.research.google.com/notebooks/data_table.ipynb>data table notebook</a>'\n",
              "            + ' to learn more about interactive tables.';\n",
              "          element.innerHTML = '';\n",
              "          dataTable['output_type'] = 'display_data';\n",
              "          await google.colab.output.renderOutput(dataTable, element);\n",
              "          const docLink = document.createElement('div');\n",
              "          docLink.innerHTML = docLinkHtml;\n",
              "          element.appendChild(docLink);\n",
              "        }\n",
              "      </script>\n",
              "    </div>\n",
              "  </div>\n",
              "  "
            ]
          },
          "metadata": {},
          "execution_count": 7
        }
      ]
    },
    {
      "cell_type": "code",
      "source": [
        "import matplotlib.pyplot as plt\n",
        "boxplot = df.boxplot()\n",
        "plt.show()\n"
      ],
      "metadata": {
        "colab": {
          "base_uri": "https://localhost:8080/",
          "height": 430
        },
        "id": "sa_qF6QkLGAN",
        "outputId": "6b8b4999-0a90-42a1-cecd-82e352610c4b"
      },
      "execution_count": 8,
      "outputs": [
        {
          "output_type": "display_data",
          "data": {
            "text/plain": [
              "<Figure size 640x480 with 1 Axes>"
            ],
            "image/png": "[encoded data removed]"
          },
          "metadata": {}
        }
      ]
    },
    {
      "cell_type": "code",
      "source": [
        "import scipy.stats as stats\n",
        "df['CC'].mean()\n"
      ],
      "metadata": {
        "colab": {
          "base_uri": "https://localhost:8080/"
        },
        "id": "dapMhpUrLTs8",
        "outputId": "9a289abc-1056-4b5c-e4fe-fbfa47000938"
      },
      "execution_count": 9,
      "outputs": [
        {
          "output_type": "execute_result",
          "data": {
            "text/plain": [
              "64.8"
            ]
          },
          "metadata": {},
          "execution_count": 9
        }
      ]
    },
    {
      "cell_type": "code",
      "source": [
        "mean = df['CC'].mean()"
      ],
      "metadata": {
        "id": "Wfx2ktgrF2Na"
      },
      "execution_count": 10,
      "outputs": []
    },
    {
      "cell_type": "code",
      "source": [
        "std = df[\"CC\"].std()"
      ],
      "metadata": {
        "id": "rWXZbOuJPH6U"
      },
      "execution_count": 11,
      "outputs": []
    },
    {
      "cell_type": "code",
      "source": [
        "zscores = stats.zscore(df['CC'])\n",
        "print(zscores)"
      ],
      "metadata": {
        "colab": {
          "base_uri": "https://localhost:8080/"
        },
        "id": "mIuLyStnP0Lq",
        "outputId": "1f1eef00-2306-47e0-805d-b33004977447"
      },
      "execution_count": 12,
      "outputs": [
        {
          "output_type": "stream",
          "name": "stdout",
          "text": [
            "0    0.904403\n",
            "1   -0.064600\n",
            "2    1.308154\n",
            "3   -1.356604\n",
            "4   -0.791353\n",
            "Name: CC, dtype: float64\n"
          ]
        }
      ]
    },
    {
      "cell_type": "code",
      "source": [
        "threshold = 0\n",
        "outlier = []\n",
        "for i in df[\"CC\"]:\n",
        "  z = (i-mean)/std\n",
        "  if z > threshold:\n",
        "    outlier.append(i)\n",
        "print('outlier in dataset is', outlier)"
      ],
      "metadata": {
        "id": "1tt-l5eBP8FE",
        "colab": {
          "base_uri": "https://localhost:8080/"
        },
        "outputId": "0d7cf01a-d529-4375-b442-67e1b8f7a0a2"
      },
      "execution_count": 13,
      "outputs": [
        {
          "output_type": "stream",
          "name": "stdout",
          "text": [
            "outlier in dataset is [76, 81]\n"
          ]
        }
      ]
    },
    {
      "cell_type": "code",
      "source": [],
      "metadata": {
        "id": "N-kWm9MgFu24"
      },
      "execution_count": 13,
      "outputs": []
    }
  ]
}